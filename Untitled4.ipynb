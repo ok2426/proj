{
  "nbformat": 4,
  "nbformat_minor": 0,
  "metadata": {
    "colab": {
      "provenance": []
    },
    "kernelspec": {
      "name": "python3",
      "display_name": "Python 3"
    },
    "language_info": {
      "name": "python"
    }
  },
  "cells": [
    {
      "cell_type": "code",
      "execution_count": null,
      "metadata": {
        "id": "-c9fV9RoT5Y2"
      },
      "outputs": [],
      "source": [
        "import os\n",
        "import pandas as pd\n",
        "import numpy as np\n",
        "from PIL import Image\n",
        "from sklearn.model_selection import train_test_split\n",
        "import zipfile\n",
        "import cv2\n",
        "from google.colab import drive\n",
        "\n",
        "# Функція для підключення до Google Drive і завантаження датасету\n",
        "def setup_kaggle_credentials():\n",
        "    drive.mount('/content/drive')\n",
        "\n",
        "    !mkdir -p ~/.kaggle\n",
        "    !cp \"/content/drive/My Drive/kaggle/kaggle.json\" ~/.kaggle/\n",
        "    !chmod 600 ~/.kaggle/kaggle.json\n",
        "\n",
        "def download_dataset():\n",
        "    !pip install kaggle\n",
        "\n",
        "    !kaggle datasets download -d meowmeowmeowmeowmeow/gtsrb-german-traffic-sign\n",
        "\n",
        "    with zipfile.ZipFile('gtsrb-german-traffic-sign.zip', 'r') as zip_ref:\n",
        "        zip_ref.extractall('/content')\n",
        "\n",
        "\n",
        "setup_kaggle_credentials()\n",
        "download_dataset()"
      ]
    },
    {
      "cell_type": "code",
      "source": [
        "import os\n",
        "import pandas as pd\n",
        "import shutil\n",
        "import cv2\n",
        "from sklearn.model_selection import train_test_split\n",
        "\n",
        "# Визначення бажаного розміру зображень\n",
        "desired_size = (640, 640)\n",
        "\n",
        "# Завантаження даних анотацій\n",
        "df = pd.read_csv('/content/Train.csv')\n",
        "\n",
        "# Створення каталогів для зображень і анотацій\n",
        "os.makedirs('/content/train_yolo/images/train', exist_ok=True)\n",
        "os.makedirs('/content/train_yolo/labels/train', exist_ok=True)\n",
        "os.makedirs('/content/train_yolo/images/val', exist_ok=True)\n",
        "os.makedirs('/content/train_yolo/labels/val', exist_ok=True)\n",
        "\n",
        "# Функція для створення YOLO анотацій і збереження зображень\n",
        "def create_yolo_data(row, img_folder, lbl_folder):\n",
        "    src_img_path = f'/content/Train/{row[\"ClassId\"]}/{os.path.basename(row[\"Path\"])}'\n",
        "    img_filename = os.path.basename(src_img_path)\n",
        "    dst_img_path = os.path.join(img_folder, img_filename)\n",
        "\n",
        "    # Читання зображення\n",
        "    image = cv2.imread(src_img_path)\n",
        "    if image is not None:\n",
        "        resized_image = cv2.resize(image, desired_size)\n",
        "\n",
        "        # Збереження масштабованого зображення\n",
        "        cv2.imwrite(dst_img_path, resized_image)\n",
        "\n",
        "        # Обчислення координат YOLO\n",
        "        scale_x = desired_size[0] / row['Width']\n",
        "        scale_y = desired_size[1] / row['Height']\n",
        "        x_center = (row['Roi.X1'] + row['Roi.X2']) / 2 * scale_x / desired_size[0]\n",
        "        y_center = (row['Roi.Y1'] + row['Roi.Y2']) / 2 * scale_y / desired_size[1]\n",
        "        width = (row['Roi.X2'] - row['Roi.X1']) * scale_x / desired_size[0]\n",
        "        height = (row['Roi.Y2'] - row['Roi.Y1']) * scale_y / desired_size[1]\n",
        "\n",
        "        # Запис анотацій\n",
        "        with open(os.path.join(lbl_folder, img_filename.replace('.png', '.txt')), 'w') as f:\n",
        "            f.write(f\"0 {x_center:.6f} {y_center:.6f} {width:.6f} {height:.6f}\\n\")  # Використовуємо клас 0 для всіх знаків\n",
        "    else:\n",
        "        print(f\"Failed to load image from {src_img_path}\")\n",
        "\n",
        "# Розділення даних на тренувальні та валідаційні\n",
        "train_df, val_df = train_test_split(df, test_size=0.2, random_state=42)\n",
        "\n",
        "# Створення даних для тренування і валідації\n",
        "train_df.apply(create_yolo_data, img_folder='/content/train_yolo/images/train', lbl_folder='/content/train_yolo/labels/train', axis=1)\n",
        "val_df.apply(create_yolo_data, img_folder='/content/train_yolo/images/val', lbl_folder='/content/train_yolo/labels/val', axis=1)\n"
      ],
      "metadata": {
        "id": "4ZepXHA9T9Kt"
      },
      "execution_count": null,
      "outputs": []
    },
    {
      "cell_type": "code",
      "source": [
        "# Встановити YOLOv5 з GitHub\n",
        "!git clone https://github.com/ultralytics/yolov5\n",
        "%cd yolov5"
      ],
      "metadata": {
        "id": "ginAa4kWT_cJ"
      },
      "execution_count": null,
      "outputs": []
    },
    {
      "cell_type": "code",
      "source": [
        "!pip install -r requirements.txt  # Встановлюємо необхідні залежності"
      ],
      "metadata": {
        "id": "kXubcdUzUGaJ"
      },
      "execution_count": null,
      "outputs": []
    },
    {
      "cell_type": "code",
      "source": [
        "# Тренування моделі YOLOv5\n",
        "!python train.py --img 640 --batch 16 --epochs 30 --data /content/gtsrb.yaml --weights yolov5s.pt --cache --patience 3"
      ],
      "metadata": {
        "id": "rxSN1wjGUI2-"
      },
      "execution_count": null,
      "outputs": []
    },
    {
      "cell_type": "code",
      "source": [
        "import shutil\n",
        "\n",
        "from google.colab import drive\n",
        "drive.mount('/content/drive')\n",
        "\n",
        "import glob\n",
        "best_model_path = glob.glob('/content/yolov5/runs/train/exp*/weights/best.pt')[0]  # Отримуємо шлях до найкращої моделі\n",
        "\n",
        "# Копіювання найкращої моделі на Google Drive\n",
        "shutil.copy(best_model_path, '/content/drive/My Drive/')"
      ],
      "metadata": {
        "id": "f1EBB4_KULnK"
      },
      "execution_count": null,
      "outputs": []
    },
    {
      "cell_type": "code",
      "source": [
        "import numpy as np\n",
        "import pandas as pd\n",
        "import os\n",
        "import cv2\n",
        "import matplotlib.pyplot as plt\n",
        "import tensorflow as tf\n",
        "from tensorflow import keras\n",
        "from PIL import Image\n",
        "from sklearn.model_selection import train_test_split\n",
        "from tensorflow.keras.preprocessing.image import ImageDataGenerator\n",
        "from tensorflow.keras.optimizers import Adam\n",
        "from sklearn.metrics import accuracy_score\n",
        "np.random.seed(42)\n",
        "\n",
        "from matplotlib import style\n",
        "style.use('fivethirtyeight')"
      ],
      "metadata": {
        "id": "x2nBuwqPUgBF"
      },
      "execution_count": null,
      "outputs": []
    },
    {
      "cell_type": "code",
      "source": [
        "data_dir = \"/content\""
      ],
      "metadata": {
        "id": "O3Q9-iV3UoKO"
      },
      "execution_count": null,
      "outputs": []
    },
    {
      "cell_type": "code",
      "source": [
        "train_path = '/content/Train'\n",
        "test_path = '/content/Test'\n",
        "\n",
        "# зміна розміру зображень\n",
        "IMG_HEIGHT = 30\n",
        "IMG_WIDTH = 30\n",
        "channels = 3"
      ],
      "metadata": {
        "id": "rYceiiHaUsVH"
      },
      "execution_count": null,
      "outputs": []
    },
    {
      "cell_type": "code",
      "source": [
        "NUM_CATEGORIES = len(os.listdir(train_path))\n",
        "NUM_CATEGORIES"
      ],
      "metadata": {
        "id": "rCsmGbjXUt8S"
      },
      "execution_count": null,
      "outputs": []
    },
    {
      "cell_type": "code",
      "source": [
        "classes = {\n",
        "    0: 'Обмеження швидкості (20 км/год)',\n",
        "    1: 'Обмеження швидкості (30 км/год)',\n",
        "    2: 'Обмеження швидкості (50 км/год)',\n",
        "    3: 'Обмеження швидкості (60 км/год)',\n",
        "    4: 'Обмеження швидкості (70 км/год)',\n",
        "    5: 'Обмеження швидкості (80 км/год)',\n",
        "    6: 'Кінець обмеження швидкості (80 км/год)',\n",
        "    7: 'Обмеження швидкості (100 км/год)',\n",
        "    8: 'Обмеження швидкості (120 км/год)',\n",
        "    9: 'Обгін заборонено',\n",
        "    10: 'Обгін заборонено для транспорту вагою понад 3.5 тонни',\n",
        "    11: 'Право першочергового проїзду на перехрестях',\n",
        "    12: 'Головна дорога',\n",
        "    13: 'Дати дорогу',\n",
        "    14: 'Стоп',\n",
        "    15: 'Рух заборонено',\n",
        "    16: 'Рух транспорту вагою понад 3.5 тонни заборонено',\n",
        "    17: 'В\\'їзд заборонено',\n",
        "    18: 'Загальна обережність',\n",
        "    19: 'Небезпечний поворот ліворуч',\n",
        "    20: 'Небезпечний поворот праворуч',\n",
        "    21: 'Двійний поворот',\n",
        "    22: 'Нерівна дорога',\n",
        "    23: 'Слизька дорога',\n",
        "    24: 'Звуження дороги справа',\n",
        "    25: 'Дорожні роботи',\n",
        "    26: 'Світлофор',\n",
        "    27: 'Пішоходи',\n",
        "    28: 'Діти',\n",
        "    29: 'Велосипедний перехід',\n",
        "    30: 'Обережно, ожеледиця/сніг',\n",
        "    31: 'Перехід диких тварин',\n",
        "    32: 'Кінець обмежень швидкості та обгону',\n",
        "    33: 'Поворот праворуч',\n",
        "    34: 'Поворот ліворуч',\n",
        "    35: 'Тільки прямо',\n",
        "    36: 'Рухайтесь прямо або праворуч',\n",
        "    37: 'Рухайтесь прямо або ліворуч',\n",
        "    38: 'Тримайтесь праворуч',\n",
        "    39: 'Тримайтесь ліворуч',\n",
        "    40: 'Круговий рух обов’язковий',\n",
        "    41: 'Кінець заборони обгону',\n",
        "    42: 'Кінець заборони обгону для транспорту вагою понад 3.5 тонни'\n",
        "}\n"
      ],
      "metadata": {
        "id": "Ssm2DJVMUv05"
      },
      "execution_count": null,
      "outputs": []
    },
    {
      "cell_type": "code",
      "source": [
        "image_data = []\n",
        "image_labels = []\n",
        "\n",
        "for i in range(NUM_CATEGORIES):\n",
        "    path = data_dir + '/Train/' + str(i)\n",
        "    images = os.listdir(path)\n",
        "\n",
        "    for img in images:\n",
        "        try:\n",
        "            image = cv2.imread(path + '/' + img)\n",
        "            image_fromarray = Image.fromarray(image, 'RGB')\n",
        "            resize_image = image_fromarray.resize((IMG_HEIGHT, IMG_WIDTH))\n",
        "            image_data.append(np.array(resize_image))\n",
        "            image_labels.append(i)\n",
        "        except:\n",
        "            print(\"Error in \" + img)\n",
        "\n",
        "image_data = np.array(image_data)\n",
        "image_labels = np.array(image_labels)\n",
        "\n",
        "print(image_data.shape, image_labels.shape)"
      ],
      "metadata": {
        "id": "7eTcfs3mUxpP"
      },
      "execution_count": null,
      "outputs": []
    },
    {
      "cell_type": "code",
      "source": [
        "shuffle_indexes = np.arange(image_data.shape[0])\n",
        "np.random.shuffle(shuffle_indexes)\n",
        "image_data = image_data[shuffle_indexes]\n",
        "image_labels = image_labels[shuffle_indexes]"
      ],
      "metadata": {
        "id": "cWzLyemDUz4c"
      },
      "execution_count": null,
      "outputs": []
    },
    {
      "cell_type": "code",
      "source": [
        "X_train, X_val, y_train, y_val = train_test_split(image_data, image_labels, test_size=0.3, random_state=42, shuffle=True)\n",
        "\n",
        "X_train = X_train/255\n",
        "X_val = X_val/255\n",
        "\n",
        "print(\"X_train.shape\", X_train.shape)\n",
        "print(\"X_valid.shape\", X_val.shape)\n",
        "print(\"y_train.shape\", y_train.shape)\n",
        "print(\"y_valid.shape\", y_val.shape)"
      ],
      "metadata": {
        "id": "8NWQYVYIU15Y"
      },
      "execution_count": null,
      "outputs": []
    },
    {
      "cell_type": "code",
      "source": [
        "y_train = keras.utils.to_categorical(y_train, NUM_CATEGORIES)\n",
        "y_val = keras.utils.to_categorical(y_val, NUM_CATEGORIES)\n",
        "\n",
        "print(y_train.shape)\n",
        "print(y_val.shape)"
      ],
      "metadata": {
        "id": "gkAO5OHnU4XA"
      },
      "execution_count": null,
      "outputs": []
    },
    {
      "cell_type": "code",
      "source": [
        "model = keras.models.Sequential([\n",
        "    keras.layers.Conv2D(filters=16, kernel_size=(3,3), activation='relu', input_shape=(IMG_HEIGHT,IMG_WIDTH,channels)),\n",
        "    keras.layers.Conv2D(filters=32, kernel_size=(3,3), activation='relu'),\n",
        "    keras.layers.MaxPool2D(pool_size=(2, 2)),\n",
        "    keras.layers.BatchNormalization(axis=-1),\n",
        "\n",
        "    keras.layers.Conv2D(filters=64, kernel_size=(3,3), activation='relu'),\n",
        "    keras.layers.Conv2D(filters=128, kernel_size=(3,3), activation='relu'),\n",
        "    keras.layers.MaxPool2D(pool_size=(2, 2)),\n",
        "    keras.layers.BatchNormalization(axis=-1),\n",
        "\n",
        "    keras.layers.Flatten(),\n",
        "    keras.layers.Dense(512, activation='relu'),\n",
        "    keras.layers.BatchNormalization(),\n",
        "    keras.layers.Dropout(rate=0.5),\n",
        "\n",
        "    keras.layers.Dense(43, activation='softmax')\n",
        "])"
      ],
      "metadata": {
        "id": "o4SKYWI7U6mJ"
      },
      "execution_count": null,
      "outputs": []
    },
    {
      "cell_type": "code",
      "source": [
        "from keras.optimizers import Adam\n",
        "from keras.preprocessing.image import ImageDataGenerator\n",
        "\n",
        "lr = 0.001\n",
        "epochs = 30\n",
        "\n",
        "opt = Adam(lr=lr)\n",
        "model.compile(loss='categorical_crossentropy', optimizer=opt, metrics=['accuracy'])\n",
        "\n",
        "aug = ImageDataGenerator(\n",
        "    rotation_range=10,\n",
        "    zoom_range=0.15,\n",
        "    width_shift_range=0.1,\n",
        "    height_shift_range=0.1,\n",
        "    shear_range=0.15,\n",
        "    horizontal_flip=False,\n",
        "    vertical_flip=False,\n",
        "    fill_mode=\"nearest\"\n",
        ")\n",
        "\n",
        "history = model.fit(aug.flow(X_train, y_train, batch_size=32), epochs=epochs, validation_data=(X_val, y_val))"
      ],
      "metadata": {
        "id": "j-y6i8R6U8iV"
      },
      "execution_count": null,
      "outputs": []
    },
    {
      "cell_type": "code",
      "source": [
        "# Збереження моделі на диск\n",
        "model.save('/content/model.h5')\n",
        "\n",
        "# Копіювання моделі на Google Drive\n",
        "shutil.copy('/content/model.h5', '/content/drive/My Drive/model.h5')"
      ],
      "metadata": {
        "id": "BoHWtXTDU-UK"
      },
      "execution_count": null,
      "outputs": []
    },
    {
      "cell_type": "code",
      "source": [
        "test = pd.read_csv(data_dir + '/Test.csv')\n",
        "\n",
        "labels = test[\"ClassId\"].values\n",
        "imgs = test[\"Path\"].values\n",
        "\n",
        "data =[]\n",
        "\n",
        "for img in imgs:\n",
        "    try:\n",
        "        image = cv2.imread(data_dir + '/' +img)\n",
        "        image_fromarray = Image.fromarray(image, 'RGB')\n",
        "        resize_image = image_fromarray.resize((IMG_HEIGHT, IMG_WIDTH))\n",
        "        data.append(np.array(resize_image))\n",
        "    except:\n",
        "        print(\"Error in \" + img)\n",
        "X_test = np.array(data)\n",
        "X_test = X_test/255\n",
        "\n",
        "pred_probs = model.predict(X_test)\n",
        "pred = np.argmax(pred_probs, axis=1)\n",
        "\n",
        "# Оцінка точності за допомогою метрики accuracy_score\n",
        "accuracy = accuracy_score(labels, pred)\n",
        "print('Test Data accuracy: ', accuracy * 100)"
      ],
      "metadata": {
        "id": "WqB54GndVA5r"
      },
      "execution_count": null,
      "outputs": []
    },
    {
      "cell_type": "code",
      "source": [
        "!pip install easyocr\n",
        "import easyocr\n",
        "reader = easyocr.Reader(['en'], gpu = True)"
      ],
      "metadata": {
        "id": "eUvfG0AVVIVm"
      },
      "execution_count": null,
      "outputs": []
    },
    {
      "cell_type": "code",
      "source": [
        "pip install googletrans==4.0.0-rc1"
      ],
      "metadata": {
        "id": "hK5f7LZDVZDG"
      },
      "execution_count": null,
      "outputs": []
    },
    {
      "cell_type": "code",
      "source": [
        "from googletrans import Translator, LANGUAGES\n",
        "\n",
        "def translate_text(text, src='en', dest='uk'):\n",
        "    translator = Translator()\n",
        "    translation = translator.translate(text, src=src, dest=dest)\n",
        "    return translation.text\n",
        "\n",
        "# Збір текстів з детекцій у один рядок\n",
        "detected_texts = []\n",
        "for bbox, text, score in text_detections:\n",
        "    if score > threshold:\n",
        "        detected_texts.append(text)\n",
        "\n",
        "# Об'єднання всіх текстів у один рядок\n",
        "full_text = ' '.join(detected_texts)\n",
        "print(\"Detected texts:\", full_text)\n",
        "\n",
        "# Переклад об'єднаного тексту\n",
        "if full_text:\n",
        "    try:\n",
        "        translated_text = translate_text(full_text)\n",
        "        print(\"Translated text:\", translated_text)\n",
        "    except Exception as e:\n",
        "        print(\"Error during translation:\", e)\n",
        "else:\n",
        "    print(\"No text detected.\")"
      ],
      "metadata": {
        "id": "udDjfmwrW66Z"
      },
      "execution_count": null,
      "outputs": []
    },
    {
      "cell_type": "code",
      "source": [
        "import cv2\n",
        "import torch\n",
        "import numpy as np\n",
        "from PIL import Image\n",
        "import easyocr\n",
        "from googletrans import Translator, constants\n",
        "\n",
        "# Завантаження моделей\n",
        "yolo_model = torch.hub.load('ultralytics/yolov5', 'custom', path='/content/drive/My Drive/best.pt')  # шлях до навченої YOLO моделі\n",
        "cnn_model = torch.load('/content/drive/My Drive/model.h5')  # шлях до CNN моделі\n",
        "\n",
        "# Налаштування для OCR і перекладача\n",
        "reader = easyocr.Reader(['en', 'uk'])\n",
        "translator = Translator()\n",
        "\n",
        "def process_image(image_path):\n",
        "    # Завантаження і обробка вхідного зображення\n",
        "    img = cv2.imread(image_path)\n",
        "    img_resized = cv2.resize(img, (640, 640))  # Масштабування зображення до 640x640\n",
        "\n",
        "    results = yolo_model(img_resized)\n",
        "\n",
        "    # Виявлення дорожніх знаків\n",
        "    signs = results.xyxy[0]\n",
        "\n",
        "    for sign in signs:\n",
        "        x1, y1, x2, y2, conf, cls = int(sign[0]), int(sign[1]), int(sign[2]), int(sign[3]), sign[4], int(sign[5])\n",
        "        # Вирізання дорожнього знаку з зображення\n",
        "        sign_img = img_resized[y1:y2, x1:x2]\n",
        "        sign_img_pil = Image.fromarray(sign_img)\n",
        "\n",
        "        # Перетворення зображення для CNN\n",
        "        sign_img_resized = sign_img_pil.resize((30, 30))\n",
        "        sign_img_array = np.expand_dims(np.array(sign_img_resized), axis=0)\n",
        "\n",
        "        # Класифікація дорожнього знаку\n",
        "        pred = cnn_model.predict(sign_img_array)\n",
        "        predicted_class = np.argmax(pred, axis=1)[0]\n",
        "        print(f\"Detected sign class: {predicted_class}\")\n",
        "\n",
        "    # Розпізнавання та переклад тексту на зображенні\n",
        "    text_results = reader.readtext(img_resized)\n",
        "    for bbox, text, prob in text_results:\n",
        "        print(f\"Detected text: {text}, Confidence: {prob}\")\n",
        "        translated_text = translator.translate(text, src='en', dest='uk')\n",
        "        print(f\"Translated text: {translated_text.text}\")\n",
        "\n",
        "# Тестування функції\n",
        "process_image('/content/Test/image.jpg')\n"
      ],
      "metadata": {
        "id": "5Q7iecKkrWQf"
      },
      "execution_count": null,
      "outputs": []
    }
  ]
}